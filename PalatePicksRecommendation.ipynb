{
 "cells": [
  {
   "cell_type": "code",
   "execution_count": 118,
   "metadata": {},
   "outputs": [],
   "source": [
    "import pandas as pd\n",
    "import numpy as np\n",
    "from sklearn.metrics.pairwise import cosine_similarity\n",
    "from sklearn.feature_extraction.text import TfidfVectorizer\n",
    "from nltk.corpus import stopwords\n",
    "import re\n",
    "import random\n",
    "from Sastrawi.StopWordRemover.StopWordRemoverFactory import StopWordRemoverFactory"
   ]
  },
  {
   "cell_type": "code",
   "execution_count": 120,
   "metadata": {},
   "outputs": [],
   "source": [
    "# Load the cafe dataset\n",
    "cafe_df = pd.read_csv('dataset/New_KafeJakarta.csv')"
   ]
  },
  {
   "cell_type": "code",
   "execution_count": 121,
   "metadata": {},
   "outputs": [
    {
     "name": "stdout",
     "output_type": "stream",
     "text": [
      "<class 'pandas.core.frame.DataFrame'>\n",
      "RangeIndex: 102 entries, 0 to 101\n",
      "Data columns (total 33 columns):\n",
      " #   Column                  Non-Null Count  Dtype \n",
      "---  ------                  --------------  ----- \n",
      " 0   cafe_id                 102 non-null    object\n",
      " 1   name                    102 non-null    object\n",
      " 2   description             41 non-null     object\n",
      " 3   website                 68 non-null     object\n",
      " 4   featured_image          102 non-null    object\n",
      " 5   main_category           102 non-null    object\n",
      " 6   categories              102 non-null    object\n",
      " 7   workday_timing          99 non-null     object\n",
      " 8   closed_on               15 non-null     object\n",
      " 9   phone                   90 non-null     object\n",
      " 10  address                 102 non-null    object\n",
      " 11  review_keywords         89 non-null     object\n",
      " 12  link                    102 non-null    object\n",
      " 13  outdoor                 102 non-null    int64 \n",
      " 14  Indoor                  102 non-null    int64 \n",
      " 15  RetroVintage            102 non-null    int64 \n",
      " 16  MinimalisCafe           102 non-null    int64 \n",
      " 17  IndustrialCafe          102 non-null    int64 \n",
      " 18  ModernCafe              102 non-null    int64 \n",
      " 19  ArtCafe                 102 non-null    int64 \n",
      " 20  PetCafe                 102 non-null    int64 \n",
      " 21  BooksCafe               102 non-null    int64 \n",
      " 22  24HoursCafe             102 non-null    int64 \n",
      " 23  MeetingCafe             102 non-null    int64 \n",
      " 24  StudyCafe               102 non-null    int64 \n",
      " 25  Cafe with a good views  102 non-null    int64 \n",
      " 26  FamilyCafe              102 non-null    int64 \n",
      " 27  CountryFood             102 non-null    int64 \n",
      " 28  Smoking                 102 non-null    int64 \n",
      " 29  NonSmoking              102 non-null    int64 \n",
      " 30  Coffee                  102 non-null    int64 \n",
      " 31  NonCoffee               102 non-null    int64 \n",
      " 32  GardenCafe              102 non-null    int64 \n",
      "dtypes: int64(20), object(13)\n",
      "memory usage: 26.4+ KB\n"
     ]
    }
   ],
   "source": [
    "cafe_df.info()"
   ]
  },
  {
   "cell_type": "code",
   "execution_count": 122,
   "metadata": {},
   "outputs": [
    {
     "name": "stdout",
     "output_type": "stream",
     "text": [
      "Index(['cafe_id', 'name', 'description', 'website', 'featured_image',\n",
      "       'main_category', 'categories', 'workday_timing', 'closed_on', 'phone',\n",
      "       'address', 'review_keywords', 'link', 'outdoor', 'Indoor',\n",
      "       'RetroVintage', 'MinimalisCafe', 'IndustrialCafe', 'ModernCafe',\n",
      "       'ArtCafe', 'PetCafe', 'BooksCafe', '24HoursCafe', 'MeetingCafe',\n",
      "       'StudyCafe', 'Cafe with a good views', 'FamilyCafe', 'CountryFood',\n",
      "       'Smoking', 'NonSmoking', 'Coffee', 'NonCoffee', 'GardenCafe'],\n",
      "      dtype='object')\n"
     ]
    }
   ],
   "source": [
    "print(cafe_df.columns)"
   ]
  },
  {
   "cell_type": "code",
   "execution_count": 123,
   "metadata": {},
   "outputs": [
    {
     "name": "stdout",
     "output_type": "stream",
     "text": [
      "0\n",
      "0\n",
      "<class 'pandas.core.frame.DataFrame'>\n",
      "RangeIndex: 102 entries, 0 to 101\n",
      "Data columns (total 33 columns):\n",
      " #   Column                  Non-Null Count  Dtype \n",
      "---  ------                  --------------  ----- \n",
      " 0   cafe_id                 102 non-null    object\n",
      " 1   name                    102 non-null    object\n",
      " 2   description             102 non-null    object\n",
      " 3   website                 102 non-null    object\n",
      " 4   featured_image          102 non-null    object\n",
      " 5   main_category           102 non-null    object\n",
      " 6   categories              102 non-null    object\n",
      " 7   workday_timing          99 non-null     object\n",
      " 8   closed_on               15 non-null     object\n",
      " 9   phone                   90 non-null     object\n",
      " 10  address                 102 non-null    object\n",
      " 11  review_keywords         89 non-null     object\n",
      " 12  link                    102 non-null    object\n",
      " 13  outdoor                 102 non-null    int64 \n",
      " 14  Indoor                  102 non-null    int64 \n",
      " 15  RetroVintage            102 non-null    int64 \n",
      " 16  MinimalisCafe           102 non-null    int64 \n",
      " 17  IndustrialCafe          102 non-null    int64 \n",
      " 18  ModernCafe              102 non-null    int64 \n",
      " 19  ArtCafe                 102 non-null    int64 \n",
      " 20  PetCafe                 102 non-null    int64 \n",
      " 21  BooksCafe               102 non-null    int64 \n",
      " 22  24HoursCafe             102 non-null    int64 \n",
      " 23  MeetingCafe             102 non-null    int64 \n",
      " 24  StudyCafe               102 non-null    int64 \n",
      " 25  Cafe with a good views  102 non-null    int64 \n",
      " 26  FamilyCafe              102 non-null    int64 \n",
      " 27  CountryFood             102 non-null    int64 \n",
      " 28  Smoking                 102 non-null    int64 \n",
      " 29  NonSmoking              102 non-null    int64 \n",
      " 30  Coffee                  102 non-null    int64 \n",
      " 31  NonCoffee               102 non-null    int64 \n",
      " 32  GardenCafe              102 non-null    int64 \n",
      "dtypes: int64(20), object(13)\n",
      "memory usage: 26.4+ KB\n"
     ]
    }
   ],
   "source": [
    "cafe_df[\"description\"].fillna(\"Tidak tersedia\", inplace=True)\n",
    "cafe_df[\"website\"].fillna(\"Tidak tersedia\", inplace=True)\n",
    "print(cafe_df[\"description\"].isnull().sum())\n",
    "print(cafe_df[\"website\"].isnull().sum())\n",
    "\n",
    "# cafe_df[\"description\"] = cafe_df[\"description\"].replace(\"NaN\", \"Tidak ada deskripsi\")\n",
    "cafe_df.info()"
   ]
  },
  {
   "cell_type": "code",
   "execution_count": 124,
   "metadata": {},
   "outputs": [],
   "source": [
    "def print_description(index):\n",
    "    example = cafe_df[cafe_df.index == index][['name', 'address', 'description']].values[0]\n",
    "    if len(example) > 0:\n",
    "        print(example[2])\n",
    "        print('Nama:', example[0])\n",
    "        print('Alamat:', example[1])"
   ]
  },
  {
   "cell_type": "code",
   "execution_count": 125,
   "metadata": {},
   "outputs": [
    {
     "name": "stdout",
     "output_type": "stream",
     "text": [
      "Tempat mengolah kopi yang menyajikan kopi klasik & campuran, serta makanan Indonesia, di ruang luas & klasik.\n",
      "Nama: Bakoel Koffie Cikini\n",
      "Alamat: Bakoel Koffie Cikini, Jl. Cikini Raya No.25, RT.16/RW.1, Cikini, Kec. Menteng, Kota Jakarta Pusat, Daerah Khusus Ibukota Jakarta 10330\n"
     ]
    }
   ],
   "source": [
    "print_description(0)"
   ]
  },
  {
   "cell_type": "code",
   "execution_count": 126,
   "metadata": {},
   "outputs": [
    {
     "name": "stdout",
     "output_type": "stream",
     "text": [
      "Tidak tersedia\n",
      "Nama: Anomali Coffee Menteng\n",
      "Alamat: Anomali Coffee Menteng, Jl. Teuku Cik Ditiro No.52, RT.10/RW.5, Menteng, Kec. Menteng, Kota Jakarta Pusat, Daerah Khusus Ibukota Jakarta 10310\n"
     ]
    }
   ],
   "source": [
    "print_description(1)"
   ]
  },
  {
   "cell_type": "code",
   "execution_count": 127,
   "metadata": {},
   "outputs": [
    {
     "name": "stdout",
     "output_type": "stream",
     "text": [
      "Menawarkan aneka minuman kopi yg terbuat dari biji kopi pilihan dari berbagai daerah. Tersedia kopi luwak.\n",
      "Nama: Blumchen Coffee\n",
      "Alamat: Blumchen Coffee, Fairground SCBD Lot 14, Jl. Jend. Sudirman kav 52-53 No.Kav 52-53, RT.5/RW.3, Senayan, Kec. Kby. Baru, Kota Jakarta Selatan, Daerah Khusus Ibukota Jakarta 12190\n"
     ]
    }
   ],
   "source": [
    "print_description(40)"
   ]
  },
  {
   "cell_type": "code",
   "execution_count": 128,
   "metadata": {},
   "outputs": [
    {
     "data": {
      "text/plain": [
       "array([[1.        , 0.        , 0.31700413, ..., 0.        , 0.        ,\n",
       "        0.        ],\n",
       "       [0.        , 1.        , 0.        , ..., 1.        , 1.        ,\n",
       "        1.        ],\n",
       "       [0.31700413, 0.        , 1.        , ..., 0.        , 0.        ,\n",
       "        0.        ],\n",
       "       ...,\n",
       "       [0.        , 1.        , 0.        , ..., 1.        , 1.        ,\n",
       "        1.        ],\n",
       "       [0.        , 1.        , 0.        , ..., 1.        , 1.        ,\n",
       "        1.        ],\n",
       "       [0.        , 1.        , 0.        , ..., 1.        , 1.        ,\n",
       "        1.        ]])"
      ]
     },
     "execution_count": 128,
     "metadata": {},
     "output_type": "execute_result"
    }
   ],
   "source": [
    "cafe_df.set_index('name', inplace=True)\n",
    "tf = TfidfVectorizer(analyzer='word', ngram_range=(1, 3), min_df=0.01)\n",
    "tfidf_matrix = tf.fit_transform(cafe_df['description'])\n",
    "cos_sim = cosine_similarity(tfidf_matrix, tfidf_matrix)\n",
    "cos_sim"
   ]
  },
  {
   "cell_type": "code",
   "execution_count": 129,
   "metadata": {},
   "outputs": [
    {
     "data": {
      "text/plain": [
       "0                     Bakoel Koffie Cikini\n",
       "1                   Anomali Coffee Menteng\n",
       "2               Lucky Cat Coffee & Kitchen\n",
       "3                           Anomali Coffee\n",
       "4                  Giyanti Coffee Roastery\n",
       "5                                 The Cafe\n",
       "6                             Arborea Cafe\n",
       "7                            Walking Drums\n",
       "8                       Shisha Cafe Kemang\n",
       "9     Monolog Coffee Company Plaza Senayan\n",
       "10                           Kedai Tjikini\n",
       "11                           Hause Rooftop\n",
       "12                             Kopi Kalyan\n",
       "13                    Langit Seduh Rooftop\n",
       "14                    Saudagar Kopi Sabang\n",
       "15                    1/15 Coffee, Menteng\n",
       "16                                Goedkoop\n",
       "17               Fami Cafe grand indonesia\n",
       "18                    Pison Coffee Jakarta\n",
       "19                    One Fifteenth Coffee\n",
       "20                             Crematology\n",
       "21                         Djournal Coffee\n",
       "22                               Starbucks\n",
       "23                  Kawisari Cafe & Eatery\n",
       "24                     REN Coffee & Eatery\n",
       "25                      Ombe Kofie Menteng\n",
       "26       Cecemuwe Cafe and Space - Senayan\n",
       "27                            KLTR Jakarta\n",
       "28                         Workroom Coffee\n",
       "29           Wake Cup Coffee Graha Harmoni\n",
       "30                    Cafe Kitsune Jakarta\n",
       "31                           Cafe De Burse\n",
       "32                           PERON SKYCAFE\n",
       "33                         Romansa Jakarta\n",
       "34                   Little League Jakarta\n",
       "35      KEN ALIY COFFEE - KOPI ENAK SPACES\n",
       "36                              ou tu cafe\n",
       "37                   Upstairs Rooftop Cafe\n",
       "38       Diskusi Kopi & Ruang Berbagi Kawi\n",
       "39                       BONCAFE INDONESIA\n",
       "40                         Blumchen Coffee\n",
       "41                       Antipodean Coffee\n",
       "42                         Sky Garden Cafe\n",
       "43              The People's Cafe Rajawali\n",
       "44        Kopi Cat Cafe by Groovy - Kemang\n",
       "45               MOREAU Chocolatier's Cafe\n",
       "46                         Atap Rumah Cafe\n",
       "47                     MUG Coffee Kalibata\n",
       "48                           Chill In Cafe\n",
       "49                Fore coffee - Gama tower\n",
       "Name: name, dtype: object"
      ]
     },
     "execution_count": 129,
     "metadata": {},
     "output_type": "execute_result"
    }
   ],
   "source": [
    "# Set index utama di kolom 'name'\n",
    "indices = pd.Series(cafe_df.index)\n",
    "indices[:50]"
   ]
  },
  {
   "cell_type": "code",
   "execution_count": 130,
   "metadata": {},
   "outputs": [],
   "source": [
    "def recommendations(name, cos_sim = cos_sim):\n",
    "    \n",
    "    recommended_cafe = []\n",
    "    \n",
    "    # Mengambil nama hotel berdasarkan variabel indicies\n",
    "    idx = indices[indices == name].index[0]\n",
    "\n",
    "    # Membuat series berdasarkan skor kesamaan\n",
    "    score_series = pd.Series(cos_sim[idx]).sort_values(ascending = False)\n",
    "\n",
    "    # mengambil index dan dibuat 10 baris rekomendasi terbaik\n",
    "    top_10_indexes = list(score_series.iloc[1:11].index)\n",
    "    \n",
    "    for i in top_10_indexes:\n",
    "        recommended_cafe.append(list(cafe_df.index)[i])\n",
    "        \n",
    "    return recommended_cafe"
   ]
  },
  {
   "cell_type": "code",
   "execution_count": 131,
   "metadata": {},
   "outputs": [
    {
     "data": {
      "text/plain": [
       "[\"D'Bubbles shisha Cafe Tebet\",\n",
       " 'Kopi Kalyan',\n",
       " 'Bakoel Koffie Cikini',\n",
       " 'CHIEF BARBERSHOP & COFFEE - CIRAGIL',\n",
       " 'Twin House Cipete',\n",
       " 'Saudagar Kopi Sabang',\n",
       " 'Walking Drums',\n",
       " 'Djakarta Kafe',\n",
       " 'Antipodean Coffee',\n",
       " 'KLTR Jakarta']"
      ]
     },
     "execution_count": 131,
     "metadata": {},
     "output_type": "execute_result"
    }
   ],
   "source": [
    "recommendations('Lucky Cat Coffee & Kitchen')"
   ]
  },
  {
   "cell_type": "code",
   "execution_count": 134,
   "metadata": {},
   "outputs": [
    {
     "data": {
      "text/plain": [
       "['Crematology',\n",
       " 'Djakarta Kafe',\n",
       " 'REN Coffee & Eatery',\n",
       " 'KEN ALIY COFFEE - KOPI ENAK SPACES',\n",
       " 'Hause Rooftop',\n",
       " 'Monolog Coffee Company Plaza Senayan',\n",
       " 'Pison Coffee Jakarta',\n",
       " 'CHIEF COFFEE - KEMANG',\n",
       " 'Arborea Cafe',\n",
       " 'Walking Drums']"
      ]
     },
     "execution_count": 134,
     "metadata": {},
     "output_type": "execute_result"
    }
   ],
   "source": [
    "recommendations('The Cat Cabin')"
   ]
  }
 ],
 "metadata": {
  "kernelspec": {
   "display_name": ".venv",
   "language": "python",
   "name": "python3"
  },
  "language_info": {
   "codemirror_mode": {
    "name": "ipython",
    "version": 3
   },
   "file_extension": ".py",
   "mimetype": "text/x-python",
   "name": "python",
   "nbconvert_exporter": "python",
   "pygments_lexer": "ipython3",
   "version": "3.10.5"
  }
 },
 "nbformat": 4,
 "nbformat_minor": 2
}
