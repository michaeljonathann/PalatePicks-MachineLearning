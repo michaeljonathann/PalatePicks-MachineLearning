{
 "cells": [
  {
   "cell_type": "markdown",
   "metadata": {},
   "source": [
    "### Import library"
   ]
  },
  {
   "cell_type": "code",
   "execution_count": 101,
   "metadata": {},
   "outputs": [],
   "source": [
    "import pandas as pd\n",
    "import numpy as np\n",
    "from sklearn.model_selection import train_test_split\n",
    "from sklearn.preprocessing import StandardScaler\n",
    "from sklearn.metrics import accuracy_score\n",
    "from tensorflow.keras.models import Sequential\n",
    "from tensorflow.keras.layers import Dense, Dropout"
   ]
  },
  {
   "cell_type": "code",
   "execution_count": 102,
   "metadata": {},
   "outputs": [],
   "source": [
    "df = pd.read_csv('Copyofmerged.csv')"
   ]
  },
  {
   "cell_type": "code",
   "execution_count": 103,
   "metadata": {},
   "outputs": [
    {
     "name": "stdout",
     "output_type": "stream",
     "text": [
      "Index(['like_id', 'user_id', 'cafe_id', 'Kpopers', 'JapanLovers',\n",
      "       'AnimalLovers', 'Quite', 'MusicLovers', 'BookLovers', 'ArtLovers',\n",
      "       'ViewsLovers', 'CoffeeLovers', 'NonCoffeeLovers', 'groupsComer',\n",
      "       'outdoor', 'Indoor', 'RetroVintage', 'MinimalisCafe', 'IndustrialCafe',\n",
      "       'ModernCafe', 'ArtCafe', 'PetCafe', 'BooksCafe', '24HoursCafe',\n",
      "       'MeetingCafe', 'StudyCafe', 'goodViews', 'FamilyCafe', 'CountryFood',\n",
      "       'Smoking', 'NonSmoking', 'Coffee', 'NonCoffee', 'GardenCafe', 'vote'],\n",
      "      dtype='object')\n"
     ]
    }
   ],
   "source": [
    "print(df.columns)"
   ]
  },
  {
   "cell_type": "code",
   "execution_count": 106,
   "metadata": {},
   "outputs": [
    {
     "name": "stdout",
     "output_type": "stream",
     "text": [
      "   like_id  user_id  cafe_id  Kpopers  JapanLovers  AnimalLovers  Quite  \\\n",
      "0        1      478       31        0            0             0      1   \n",
      "1        2      775       54        1            0             0      1   \n",
      "2        3      231       96        1            1             0      0   \n",
      "3        4      447       33        1            1             1      0   \n",
      "4        5      435       15        0            1             1      1   \n",
      "\n",
      "   MusicLovers  BookLovers  ArtLovers  ...  StudyCafe  goodViews  FamilyCafe  \\\n",
      "0            0           0          0  ...          1          0           1   \n",
      "1            1           0          0  ...          1          0           0   \n",
      "2            0           1          1  ...          1          1           0   \n",
      "3            0           0          1  ...          1          1           1   \n",
      "4            0           1          1  ...          1          0           0   \n",
      "\n",
      "   CountryFood  Smoking  NonSmoking  Coffee  NonCoffee  GardenCafe  vote  \n",
      "0            1        1           1       1          1           1     0  \n",
      "1            0        0           1       1          1           1     0  \n",
      "2            0        0           1       1          1           0     1  \n",
      "3            0        1           0       1          1           0     1  \n",
      "4            0        1           1       1          1           0     0  \n",
      "\n",
      "[5 rows x 35 columns]\n"
     ]
    }
   ],
   "source": [
    "print(df.head(5))"
   ]
  },
  {
   "cell_type": "code",
   "execution_count": 107,
   "metadata": {},
   "outputs": [],
   "source": [
    "df_model = df.drop(columns=['like_id', 'user_id', 'cafe_id'])"
   ]
  },
  {
   "cell_type": "code",
   "execution_count": 108,
   "metadata": {},
   "outputs": [
    {
     "name": "stdout",
     "output_type": "stream",
     "text": [
      "Index(['Kpopers', 'JapanLovers', 'AnimalLovers', 'Quite', 'MusicLovers',\n",
      "       'BookLovers', 'ArtLovers', 'ViewsLovers', 'CoffeeLovers',\n",
      "       'NonCoffeeLovers', 'groupsComer', 'outdoor', 'Indoor', 'RetroVintage',\n",
      "       'MinimalisCafe', 'IndustrialCafe', 'ModernCafe', 'ArtCafe', 'PetCafe',\n",
      "       'BooksCafe', '24HoursCafe', 'MeetingCafe', 'StudyCafe', 'goodViews',\n",
      "       'FamilyCafe', 'CountryFood', 'Smoking', 'NonSmoking', 'Coffee',\n",
      "       'NonCoffee', 'GardenCafe', 'vote'],\n",
      "      dtype='object')\n"
     ]
    }
   ],
   "source": [
    "print(df_model.columns)"
   ]
  },
  {
   "cell_type": "code",
   "execution_count": 114,
   "metadata": {},
   "outputs": [
    {
     "name": "stdout",
     "output_type": "stream",
     "text": [
      "Jumlah sampel dalam df_model: 1000\n"
     ]
    }
   ],
   "source": [
    "print(\"Jumlah sampel dalam df_model:\", len(df_model))"
   ]
  },
  {
   "cell_type": "markdown",
   "metadata": {},
   "source": [
    "### Split data and standarized"
   ]
  },
  {
   "cell_type": "code",
   "execution_count": 109,
   "metadata": {},
   "outputs": [],
   "source": [
    "# Split the data into features (X) and target (y)\n",
    "X = df_model.drop(columns=['vote'])  # Features\n",
    "y = df_model['vote']  # Target\n",
    "# Split the data into training and testing sets\n",
    "X_train, X_test, y_train, y_test = train_test_split(X, y, test_size=0.2, random_state=42)"
   ]
  },
  {
   "cell_type": "code",
   "execution_count": 115,
   "metadata": {},
   "outputs": [
    {
     "name": "stdout",
     "output_type": "stream",
     "text": [
      "Jumlah sampel dalam X_train: 800\n"
     ]
    }
   ],
   "source": [
    "print(\"Jumlah sampel dalam X_train:\", len(X_train))"
   ]
  },
  {
   "cell_type": "code",
   "execution_count": 117,
   "metadata": {},
   "outputs": [
    {
     "name": "stdout",
     "output_type": "stream",
     "text": [
      "Dimensi X_train: (800, 31)\n",
      "Info X_train:\n",
      "<class 'pandas.core.frame.DataFrame'>\n",
      "Index: 800 entries, 29 to 102\n",
      "Data columns (total 31 columns):\n",
      " #   Column           Non-Null Count  Dtype\n",
      "---  ------           --------------  -----\n",
      " 0   Kpopers          800 non-null    int64\n",
      " 1   JapanLovers      800 non-null    int64\n",
      " 2   AnimalLovers     800 non-null    int64\n",
      " 3   Quite            800 non-null    int64\n",
      " 4   MusicLovers      800 non-null    int64\n",
      " 5   BookLovers       800 non-null    int64\n",
      " 6   ArtLovers        800 non-null    int64\n",
      " 7   ViewsLovers      800 non-null    int64\n",
      " 8   CoffeeLovers     800 non-null    int64\n",
      " 9   NonCoffeeLovers  800 non-null    int64\n",
      " 10  groupsComer      800 non-null    int64\n",
      " 11  outdoor          800 non-null    int64\n",
      " 12  Indoor           800 non-null    int64\n",
      " 13  RetroVintage     800 non-null    int64\n",
      " 14  MinimalisCafe    800 non-null    int64\n",
      " 15  IndustrialCafe   800 non-null    int64\n",
      " 16  ModernCafe       800 non-null    int64\n",
      " 17  ArtCafe          800 non-null    int64\n",
      " 18  PetCafe          800 non-null    int64\n",
      " 19  BooksCafe        800 non-null    int64\n",
      " 20  24HoursCafe      800 non-null    int64\n",
      " 21  MeetingCafe      800 non-null    int64\n",
      " 22  StudyCafe        800 non-null    int64\n",
      " 23  goodViews        800 non-null    int64\n",
      " 24  FamilyCafe       800 non-null    int64\n",
      " 25  CountryFood      800 non-null    int64\n",
      " 26  Smoking          800 non-null    int64\n",
      " 27  NonSmoking       800 non-null    int64\n",
      " 28  Coffee           800 non-null    int64\n",
      " 29  NonCoffee        800 non-null    int64\n",
      " 30  GardenCafe       800 non-null    int64\n",
      "dtypes: int64(31)\n",
      "memory usage: 200.0 KB\n",
      "None\n"
     ]
    }
   ],
   "source": [
    "print(\"Dimensi X_train:\", X_train.shape)\n",
    "print(\"Info X_train:\")\n",
    "print(X_train.info())"
   ]
  },
  {
   "cell_type": "code",
   "execution_count": 110,
   "metadata": {},
   "outputs": [
    {
     "name": "stdout",
     "output_type": "stream",
     "text": [
      "Index(['Kpopers', 'JapanLovers', 'AnimalLovers', 'Quite', 'MusicLovers',\n",
      "       'BookLovers', 'ArtLovers', 'ViewsLovers', 'CoffeeLovers',\n",
      "       'NonCoffeeLovers', 'groupsComer', 'outdoor', 'Indoor', 'RetroVintage',\n",
      "       'MinimalisCafe', 'IndustrialCafe', 'ModernCafe', 'ArtCafe', 'PetCafe',\n",
      "       'BooksCafe', '24HoursCafe', 'MeetingCafe', 'StudyCafe', 'goodViews',\n",
      "       'FamilyCafe', 'CountryFood', 'Smoking', 'NonSmoking', 'Coffee',\n",
      "       'NonCoffee', 'GardenCafe'],\n",
      "      dtype='object')\n",
      "   Kpopers  JapanLovers  AnimalLovers  Quite  MusicLovers  BookLovers  \\\n",
      "0        0            0             0      1            0           0   \n",
      "1        1            0             0      1            1           0   \n",
      "2        1            1             0      0            0           1   \n",
      "3        1            1             1      0            0           0   \n",
      "4        0            1             1      1            0           1   \n",
      "\n",
      "   ArtLovers  ViewsLovers  CoffeeLovers  NonCoffeeLovers  ...  MeetingCafe  \\\n",
      "0          0            0             0                0  ...            1   \n",
      "1          0            1             0                1  ...            1   \n",
      "2          1            1             1                1  ...            1   \n",
      "3          1            0             0                1  ...            1   \n",
      "4          1            1             0                1  ...            0   \n",
      "\n",
      "   StudyCafe  goodViews  FamilyCafe  CountryFood  Smoking  NonSmoking  Coffee  \\\n",
      "0          1          0           1            1        1           1       1   \n",
      "1          1          0           0            0        0           1       1   \n",
      "2          1          1           0            0        0           1       1   \n",
      "3          1          1           1            0        1           0       1   \n",
      "4          1          0           0            0        1           1       1   \n",
      "\n",
      "   NonCoffee  GardenCafe  \n",
      "0          1           1  \n",
      "1          1           1  \n",
      "2          1           0  \n",
      "3          1           0  \n",
      "4          1           0  \n",
      "\n",
      "[5 rows x 31 columns]\n"
     ]
    }
   ],
   "source": [
    "type(X)\n",
    "print(X.columns)\n",
    "print(X[:5])"
   ]
  },
  {
   "cell_type": "code",
   "execution_count": 111,
   "metadata": {},
   "outputs": [
    {
     "name": "stdout",
     "output_type": "stream",
     "text": [
      "0    0\n",
      "1    0\n",
      "2    1\n",
      "3    1\n",
      "4    0\n",
      "Name: vote, dtype: int64\n"
     ]
    }
   ],
   "source": [
    "type(y)\n",
    "# print(y.columns)\n",
    "print(y[:5])"
   ]
  },
  {
   "cell_type": "code",
   "execution_count": 112,
   "metadata": {},
   "outputs": [],
   "source": [
    "# Standardize the features\n",
    "scaler = StandardScaler()\n",
    "X_train_scaled = scaler.fit_transform(X_train)\n",
    "X_test_scaled = scaler.transform(X_test)"
   ]
  },
  {
   "cell_type": "code",
   "execution_count": 113,
   "metadata": {},
   "outputs": [
    {
     "name": "stdout",
     "output_type": "stream",
     "text": [
      "Dimensi X_train_scaled: (800, 31)\n",
      "Dimensi X_test_scaled: (200, 31)\n"
     ]
    }
   ],
   "source": [
    "print(\"Dimensi X_train_scaled:\", X_train_scaled.shape)\n",
    "print(\"Dimensi X_test_scaled:\", X_test_scaled.shape)"
   ]
  },
  {
   "cell_type": "code",
   "execution_count": 116,
   "metadata": {},
   "outputs": [
    {
     "name": "stdout",
     "output_type": "stream",
     "text": [
      "Mean setelah transformasi: [-8.99280650e-17 -2.44249065e-17 -1.15463195e-16 -1.28785871e-16\n",
      " -3.55271368e-17  3.55271368e-17  9.54791801e-17 -7.10542736e-17\n",
      " -1.11022302e-16 -6.43929354e-17  1.02140518e-16 -2.22044605e-17\n",
      "  6.88338275e-17  4.44089210e-17 -7.10542736e-17 -7.54951657e-17\n",
      "  3.55271368e-17 -3.77475828e-17  2.22044605e-17  0.00000000e+00\n",
      " -4.44089210e-18  2.99760217e-17  1.11022302e-16  8.43769499e-17\n",
      " -9.10382880e-17 -1.33226763e-17  1.06581410e-16 -1.59872116e-16\n",
      " -7.77156117e-17  1.90958360e-16 -7.54951657e-17]\n",
      "Standar deviasi setelah transformasi: [1. 1. 1. 1. 1. 1. 1. 1. 1. 1. 1. 1. 1. 1. 1. 1. 1. 1. 1. 1. 1. 1. 1. 1.\n",
      " 1. 1. 1. 1. 1. 1. 1.]\n"
     ]
    }
   ],
   "source": [
    "print(\"Mean setelah transformasi:\", X_train_scaled.mean(axis=0))\n",
    "print(\"Standar deviasi setelah transformasi:\", X_train_scaled.std(axis=0))"
   ]
  },
  {
   "cell_type": "markdown",
   "metadata": {},
   "source": [
    "### Modelling, Evaluate, Save model"
   ]
  },
  {
   "cell_type": "code",
   "execution_count": 118,
   "metadata": {},
   "outputs": [],
   "source": [
    "# Build a recommendation model (Neural Network)\n",
    "model = Sequential([\n",
    "    Dense(512, activation='relu', input_shape=(X_train.shape[1],)),\n",
    "    Dropout(0.2),\n",
    "    Dense(256, activation='relu'),\n",
    "    Dropout(0.2),\n",
    "    Dense(128, activation='relu'),\n",
    "    Dropout(0.2),\n",
    "    Dense(1, activation='sigmoid')\n",
    "])"
   ]
  },
  {
   "cell_type": "code",
   "execution_count": 119,
   "metadata": {},
   "outputs": [],
   "source": [
    "model.compile(optimizer='adam', loss='binary_crossentropy', metrics=['accuracy'])"
   ]
  },
  {
   "cell_type": "code",
   "execution_count": 120,
   "metadata": {},
   "outputs": [
    {
     "name": "stdout",
     "output_type": "stream",
     "text": [
      "Epoch 1/100\n",
      "2/2 [==============================] - 2s 311ms/step - loss: 0.7053 - accuracy: 0.5047 - val_loss: 0.7069 - val_accuracy: 0.4625\n",
      "Epoch 2/100\n",
      "2/2 [==============================] - 0s 53ms/step - loss: 0.6930 - accuracy: 0.5188 - val_loss: 0.7029 - val_accuracy: 0.4500\n",
      "Epoch 3/100\n",
      "2/2 [==============================] - 0s 60ms/step - loss: 0.6813 - accuracy: 0.5625 - val_loss: 0.7009 - val_accuracy: 0.5000\n",
      "Epoch 4/100\n",
      "2/2 [==============================] - 0s 57ms/step - loss: 0.6668 - accuracy: 0.6062 - val_loss: 0.7038 - val_accuracy: 0.5250\n",
      "Epoch 5/100\n",
      "2/2 [==============================] - 0s 58ms/step - loss: 0.6562 - accuracy: 0.6141 - val_loss: 0.7062 - val_accuracy: 0.5125\n",
      "Epoch 6/100\n",
      "2/2 [==============================] - 0s 87ms/step - loss: 0.6478 - accuracy: 0.6313 - val_loss: 0.7110 - val_accuracy: 0.5000\n",
      "Epoch 7/100\n",
      "2/2 [==============================] - 0s 64ms/step - loss: 0.6353 - accuracy: 0.6453 - val_loss: 0.7168 - val_accuracy: 0.5063\n",
      "Epoch 8/100\n",
      "2/2 [==============================] - 0s 67ms/step - loss: 0.6339 - accuracy: 0.6500 - val_loss: 0.7210 - val_accuracy: 0.5125\n",
      "Epoch 9/100\n",
      "2/2 [==============================] - 0s 48ms/step - loss: 0.6237 - accuracy: 0.6719 - val_loss: 0.7254 - val_accuracy: 0.5250\n",
      "Epoch 10/100\n",
      "2/2 [==============================] - 0s 56ms/step - loss: 0.6135 - accuracy: 0.6766 - val_loss: 0.7340 - val_accuracy: 0.5312\n",
      "Epoch 11/100\n",
      "2/2 [==============================] - 0s 49ms/step - loss: 0.6004 - accuracy: 0.7141 - val_loss: 0.7433 - val_accuracy: 0.5188\n",
      "Epoch 12/100\n",
      "2/2 [==============================] - 0s 60ms/step - loss: 0.5921 - accuracy: 0.7016 - val_loss: 0.7526 - val_accuracy: 0.5125\n",
      "Epoch 13/100\n",
      "2/2 [==============================] - 0s 65ms/step - loss: 0.5813 - accuracy: 0.6906 - val_loss: 0.7601 - val_accuracy: 0.5125\n",
      "Epoch 14/100\n",
      "2/2 [==============================] - 0s 48ms/step - loss: 0.5815 - accuracy: 0.6969 - val_loss: 0.7645 - val_accuracy: 0.5000\n",
      "Epoch 15/100\n",
      "2/2 [==============================] - 0s 58ms/step - loss: 0.5575 - accuracy: 0.7250 - val_loss: 0.7664 - val_accuracy: 0.4875\n",
      "Epoch 16/100\n",
      "2/2 [==============================] - 0s 51ms/step - loss: 0.5491 - accuracy: 0.7219 - val_loss: 0.7612 - val_accuracy: 0.5188\n",
      "Epoch 17/100\n",
      "2/2 [==============================] - 0s 68ms/step - loss: 0.5449 - accuracy: 0.7375 - val_loss: 0.7654 - val_accuracy: 0.5312\n",
      "Epoch 18/100\n",
      "2/2 [==============================] - 0s 54ms/step - loss: 0.5340 - accuracy: 0.7625 - val_loss: 0.7721 - val_accuracy: 0.5250\n",
      "Epoch 19/100\n",
      "2/2 [==============================] - 0s 49ms/step - loss: 0.5155 - accuracy: 0.7578 - val_loss: 0.7835 - val_accuracy: 0.5125\n",
      "Epoch 20/100\n",
      "2/2 [==============================] - 0s 50ms/step - loss: 0.5112 - accuracy: 0.7484 - val_loss: 0.7887 - val_accuracy: 0.5125\n",
      "Epoch 21/100\n",
      "2/2 [==============================] - 0s 58ms/step - loss: 0.4942 - accuracy: 0.7812 - val_loss: 0.8002 - val_accuracy: 0.5063\n",
      "Epoch 22/100\n",
      "2/2 [==============================] - 0s 49ms/step - loss: 0.4828 - accuracy: 0.7766 - val_loss: 0.8178 - val_accuracy: 0.4750\n",
      "Epoch 23/100\n",
      "2/2 [==============================] - 0s 50ms/step - loss: 0.4633 - accuracy: 0.7937 - val_loss: 0.8345 - val_accuracy: 0.4750\n",
      "Epoch 24/100\n",
      "2/2 [==============================] - 0s 50ms/step - loss: 0.4663 - accuracy: 0.7891 - val_loss: 0.8537 - val_accuracy: 0.5000\n",
      "Epoch 25/100\n",
      "2/2 [==============================] - 0s 55ms/step - loss: 0.4388 - accuracy: 0.8266 - val_loss: 0.8812 - val_accuracy: 0.5000\n",
      "Epoch 26/100\n",
      "2/2 [==============================] - 0s 47ms/step - loss: 0.4253 - accuracy: 0.8234 - val_loss: 0.9085 - val_accuracy: 0.5188\n",
      "Epoch 27/100\n",
      "2/2 [==============================] - 0s 51ms/step - loss: 0.4194 - accuracy: 0.8281 - val_loss: 0.9295 - val_accuracy: 0.5250\n",
      "Epoch 28/100\n",
      "2/2 [==============================] - 0s 51ms/step - loss: 0.3989 - accuracy: 0.8406 - val_loss: 0.9537 - val_accuracy: 0.4500\n",
      "Epoch 29/100\n",
      "2/2 [==============================] - 0s 53ms/step - loss: 0.4118 - accuracy: 0.8172 - val_loss: 0.9450 - val_accuracy: 0.4437\n",
      "Epoch 30/100\n",
      "2/2 [==============================] - 0s 111ms/step - loss: 0.3989 - accuracy: 0.8266 - val_loss: 0.9626 - val_accuracy: 0.5063\n",
      "Epoch 31/100\n",
      "2/2 [==============================] - 0s 64ms/step - loss: 0.3999 - accuracy: 0.8281 - val_loss: 0.9606 - val_accuracy: 0.4375\n",
      "Epoch 32/100\n",
      "2/2 [==============================] - 0s 62ms/step - loss: 0.3821 - accuracy: 0.8375 - val_loss: 1.0110 - val_accuracy: 0.4250\n",
      "Epoch 33/100\n",
      "2/2 [==============================] - 0s 60ms/step - loss: 0.3830 - accuracy: 0.8391 - val_loss: 1.0218 - val_accuracy: 0.4938\n",
      "Epoch 34/100\n",
      "2/2 [==============================] - 0s 54ms/step - loss: 0.3647 - accuracy: 0.8375 - val_loss: 1.0697 - val_accuracy: 0.5063\n",
      "Epoch 35/100\n",
      "2/2 [==============================] - 0s 60ms/step - loss: 0.3406 - accuracy: 0.8547 - val_loss: 1.0787 - val_accuracy: 0.4500\n",
      "Epoch 36/100\n",
      "2/2 [==============================] - 0s 55ms/step - loss: 0.3499 - accuracy: 0.8516 - val_loss: 1.1106 - val_accuracy: 0.4563\n",
      "Epoch 37/100\n",
      "2/2 [==============================] - 0s 63ms/step - loss: 0.3460 - accuracy: 0.8625 - val_loss: 1.0754 - val_accuracy: 0.4500\n",
      "Epoch 38/100\n",
      "2/2 [==============================] - 0s 56ms/step - loss: 0.3056 - accuracy: 0.8828 - val_loss: 1.1312 - val_accuracy: 0.5063\n",
      "Epoch 39/100\n",
      "2/2 [==============================] - 0s 61ms/step - loss: 0.3459 - accuracy: 0.8547 - val_loss: 1.1271 - val_accuracy: 0.4500\n",
      "Epoch 40/100\n",
      "2/2 [==============================] - 0s 63ms/step - loss: 0.3246 - accuracy: 0.8719 - val_loss: 1.1559 - val_accuracy: 0.4313\n",
      "Epoch 41/100\n",
      "2/2 [==============================] - 0s 62ms/step - loss: 0.3077 - accuracy: 0.8781 - val_loss: 1.1427 - val_accuracy: 0.4625\n",
      "Epoch 42/100\n",
      "2/2 [==============================] - 0s 65ms/step - loss: 0.2907 - accuracy: 0.9000 - val_loss: 1.1700 - val_accuracy: 0.4688\n",
      "Epoch 43/100\n",
      "2/2 [==============================] - 0s 57ms/step - loss: 0.3080 - accuracy: 0.8859 - val_loss: 1.1535 - val_accuracy: 0.4688\n",
      "Epoch 44/100\n",
      "2/2 [==============================] - 0s 70ms/step - loss: 0.2669 - accuracy: 0.9047 - val_loss: 1.2107 - val_accuracy: 0.4563\n",
      "Epoch 45/100\n",
      "2/2 [==============================] - 0s 65ms/step - loss: 0.3108 - accuracy: 0.8578 - val_loss: 1.1988 - val_accuracy: 0.4250\n",
      "Epoch 46/100\n",
      "2/2 [==============================] - 0s 54ms/step - loss: 0.2563 - accuracy: 0.9031 - val_loss: 1.2447 - val_accuracy: 0.5188\n",
      "Epoch 47/100\n",
      "2/2 [==============================] - 0s 58ms/step - loss: 0.2590 - accuracy: 0.9000 - val_loss: 1.2494 - val_accuracy: 0.5000\n",
      "Epoch 48/100\n",
      "2/2 [==============================] - 0s 52ms/step - loss: 0.2610 - accuracy: 0.8969 - val_loss: 1.2693 - val_accuracy: 0.4375\n",
      "Epoch 49/100\n",
      "2/2 [==============================] - 0s 60ms/step - loss: 0.2509 - accuracy: 0.9094 - val_loss: 1.2802 - val_accuracy: 0.4375\n",
      "Epoch 50/100\n",
      "2/2 [==============================] - 0s 54ms/step - loss: 0.2113 - accuracy: 0.9266 - val_loss: 1.2891 - val_accuracy: 0.4688\n",
      "Epoch 51/100\n",
      "2/2 [==============================] - 0s 56ms/step - loss: 0.2373 - accuracy: 0.8938 - val_loss: 1.3122 - val_accuracy: 0.4250\n",
      "Epoch 52/100\n",
      "2/2 [==============================] - 0s 55ms/step - loss: 0.2113 - accuracy: 0.9453 - val_loss: 1.3638 - val_accuracy: 0.4437\n",
      "Epoch 53/100\n",
      "2/2 [==============================] - 0s 57ms/step - loss: 0.2127 - accuracy: 0.9266 - val_loss: 1.3929 - val_accuracy: 0.4375\n",
      "Epoch 54/100\n",
      "2/2 [==============================] - 0s 58ms/step - loss: 0.2111 - accuracy: 0.9172 - val_loss: 1.4356 - val_accuracy: 0.4625\n",
      "Epoch 55/100\n",
      "2/2 [==============================] - 0s 58ms/step - loss: 0.2040 - accuracy: 0.9203 - val_loss: 1.4632 - val_accuracy: 0.4563\n",
      "Epoch 56/100\n",
      "2/2 [==============================] - 0s 64ms/step - loss: 0.1765 - accuracy: 0.9438 - val_loss: 1.4596 - val_accuracy: 0.4375\n",
      "Epoch 57/100\n",
      "2/2 [==============================] - 0s 65ms/step - loss: 0.1622 - accuracy: 0.9516 - val_loss: 1.4768 - val_accuracy: 0.4187\n",
      "Epoch 58/100\n",
      "2/2 [==============================] - 0s 56ms/step - loss: 0.1964 - accuracy: 0.9187 - val_loss: 1.4862 - val_accuracy: 0.4500\n",
      "Epoch 59/100\n",
      "2/2 [==============================] - 0s 59ms/step - loss: 0.1764 - accuracy: 0.9328 - val_loss: 1.5273 - val_accuracy: 0.4875\n",
      "Epoch 60/100\n",
      "2/2 [==============================] - 0s 53ms/step - loss: 0.1902 - accuracy: 0.9266 - val_loss: 1.5586 - val_accuracy: 0.4688\n",
      "Epoch 61/100\n",
      "2/2 [==============================] - 0s 61ms/step - loss: 0.1774 - accuracy: 0.9438 - val_loss: 1.6098 - val_accuracy: 0.4250\n",
      "Epoch 62/100\n",
      "2/2 [==============================] - 0s 57ms/step - loss: 0.1570 - accuracy: 0.9453 - val_loss: 1.6361 - val_accuracy: 0.4563\n",
      "Epoch 63/100\n",
      "2/2 [==============================] - 0s 61ms/step - loss: 0.1621 - accuracy: 0.9391 - val_loss: 1.6613 - val_accuracy: 0.4563\n",
      "Epoch 64/100\n",
      "2/2 [==============================] - 0s 54ms/step - loss: 0.1563 - accuracy: 0.9547 - val_loss: 1.7042 - val_accuracy: 0.4000\n",
      "Epoch 65/100\n",
      "2/2 [==============================] - 0s 56ms/step - loss: 0.1699 - accuracy: 0.9281 - val_loss: 1.7287 - val_accuracy: 0.4313\n",
      "Epoch 66/100\n",
      "2/2 [==============================] - 0s 60ms/step - loss: 0.1631 - accuracy: 0.9422 - val_loss: 1.7309 - val_accuracy: 0.4625\n",
      "Epoch 67/100\n",
      "2/2 [==============================] - 0s 52ms/step - loss: 0.1479 - accuracy: 0.9484 - val_loss: 1.7487 - val_accuracy: 0.4688\n",
      "Epoch 68/100\n",
      "2/2 [==============================] - 0s 64ms/step - loss: 0.1592 - accuracy: 0.9391 - val_loss: 1.7168 - val_accuracy: 0.4437\n",
      "Epoch 69/100\n",
      "2/2 [==============================] - 0s 58ms/step - loss: 0.1274 - accuracy: 0.9625 - val_loss: 1.7323 - val_accuracy: 0.4437\n",
      "Epoch 70/100\n",
      "2/2 [==============================] - 0s 88ms/step - loss: 0.1565 - accuracy: 0.9328 - val_loss: 1.6905 - val_accuracy: 0.4688\n",
      "Epoch 71/100\n",
      "2/2 [==============================] - 0s 59ms/step - loss: 0.1203 - accuracy: 0.9641 - val_loss: 1.7139 - val_accuracy: 0.4812\n",
      "Epoch 72/100\n",
      "2/2 [==============================] - 0s 56ms/step - loss: 0.1182 - accuracy: 0.9656 - val_loss: 1.7331 - val_accuracy: 0.4750\n",
      "Epoch 73/100\n",
      "2/2 [==============================] - 0s 69ms/step - loss: 0.1228 - accuracy: 0.9641 - val_loss: 1.7780 - val_accuracy: 0.4437\n",
      "Epoch 74/100\n",
      "2/2 [==============================] - 0s 82ms/step - loss: 0.1126 - accuracy: 0.9672 - val_loss: 1.8049 - val_accuracy: 0.4688\n",
      "Epoch 75/100\n",
      "2/2 [==============================] - 0s 60ms/step - loss: 0.1241 - accuracy: 0.9531 - val_loss: 1.8292 - val_accuracy: 0.4688\n",
      "Epoch 76/100\n",
      "2/2 [==============================] - 0s 58ms/step - loss: 0.1199 - accuracy: 0.9625 - val_loss: 1.8655 - val_accuracy: 0.4812\n",
      "Epoch 77/100\n",
      "2/2 [==============================] - 0s 55ms/step - loss: 0.1105 - accuracy: 0.9672 - val_loss: 1.8989 - val_accuracy: 0.4625\n",
      "Epoch 78/100\n",
      "2/2 [==============================] - 0s 61ms/step - loss: 0.1196 - accuracy: 0.9500 - val_loss: 1.9178 - val_accuracy: 0.4500\n",
      "Epoch 79/100\n",
      "2/2 [==============================] - 0s 61ms/step - loss: 0.0993 - accuracy: 0.9672 - val_loss: 1.9536 - val_accuracy: 0.4688\n",
      "Epoch 80/100\n",
      "2/2 [==============================] - 0s 66ms/step - loss: 0.1121 - accuracy: 0.9609 - val_loss: 1.9841 - val_accuracy: 0.4750\n",
      "Epoch 81/100\n",
      "2/2 [==============================] - 0s 67ms/step - loss: 0.1003 - accuracy: 0.9641 - val_loss: 2.0075 - val_accuracy: 0.4563\n",
      "Epoch 82/100\n",
      "2/2 [==============================] - 0s 70ms/step - loss: 0.1185 - accuracy: 0.9578 - val_loss: 2.0274 - val_accuracy: 0.4500\n",
      "Epoch 83/100\n",
      "2/2 [==============================] - 0s 119ms/step - loss: 0.1016 - accuracy: 0.9641 - val_loss: 1.9911 - val_accuracy: 0.4313\n",
      "Epoch 84/100\n",
      "2/2 [==============================] - 0s 63ms/step - loss: 0.0958 - accuracy: 0.9641 - val_loss: 1.9775 - val_accuracy: 0.4375\n",
      "Epoch 85/100\n",
      "2/2 [==============================] - 0s 69ms/step - loss: 0.1030 - accuracy: 0.9641 - val_loss: 1.9982 - val_accuracy: 0.4500\n",
      "Epoch 86/100\n",
      "2/2 [==============================] - 0s 65ms/step - loss: 0.1134 - accuracy: 0.9625 - val_loss: 2.0306 - val_accuracy: 0.4500\n",
      "Epoch 87/100\n",
      "2/2 [==============================] - 0s 59ms/step - loss: 0.1070 - accuracy: 0.9625 - val_loss: 2.0266 - val_accuracy: 0.4563\n",
      "Epoch 88/100\n",
      "2/2 [==============================] - 0s 65ms/step - loss: 0.0849 - accuracy: 0.9703 - val_loss: 2.0315 - val_accuracy: 0.4812\n",
      "Epoch 89/100\n",
      "2/2 [==============================] - 0s 61ms/step - loss: 0.0851 - accuracy: 0.9688 - val_loss: 2.0494 - val_accuracy: 0.4812\n",
      "Epoch 90/100\n",
      "2/2 [==============================] - 0s 65ms/step - loss: 0.0697 - accuracy: 0.9844 - val_loss: 2.0775 - val_accuracy: 0.4750\n",
      "Epoch 91/100\n",
      "2/2 [==============================] - 0s 65ms/step - loss: 0.0706 - accuracy: 0.9844 - val_loss: 2.1097 - val_accuracy: 0.4375\n",
      "Epoch 92/100\n",
      "2/2 [==============================] - 0s 57ms/step - loss: 0.0837 - accuracy: 0.9688 - val_loss: 2.1199 - val_accuracy: 0.4688\n",
      "Epoch 93/100\n",
      "2/2 [==============================] - 0s 74ms/step - loss: 0.0742 - accuracy: 0.9781 - val_loss: 2.1193 - val_accuracy: 0.4875\n",
      "Epoch 94/100\n",
      "2/2 [==============================] - 0s 66ms/step - loss: 0.0823 - accuracy: 0.9734 - val_loss: 2.1449 - val_accuracy: 0.4812\n",
      "Epoch 95/100\n",
      "2/2 [==============================] - 0s 58ms/step - loss: 0.0792 - accuracy: 0.9766 - val_loss: 2.1833 - val_accuracy: 0.4812\n",
      "Epoch 96/100\n",
      "2/2 [==============================] - 0s 65ms/step - loss: 0.0794 - accuracy: 0.9750 - val_loss: 2.2268 - val_accuracy: 0.4563\n",
      "Epoch 97/100\n",
      "2/2 [==============================] - 0s 57ms/step - loss: 0.0781 - accuracy: 0.9781 - val_loss: 2.2588 - val_accuracy: 0.4563\n",
      "Epoch 98/100\n",
      "2/2 [==============================] - 0s 66ms/step - loss: 0.0821 - accuracy: 0.9703 - val_loss: 2.2608 - val_accuracy: 0.4500\n",
      "Epoch 99/100\n",
      "2/2 [==============================] - 0s 60ms/step - loss: 0.0651 - accuracy: 0.9781 - val_loss: 2.2351 - val_accuracy: 0.4500\n",
      "Epoch 100/100\n",
      "2/2 [==============================] - 0s 65ms/step - loss: 0.0741 - accuracy: 0.9703 - val_loss: 2.2359 - val_accuracy: 0.4625\n"
     ]
    },
    {
     "data": {
      "text/plain": [
       "<keras.src.callbacks.History at 0x18cdde96350>"
      ]
     },
     "execution_count": 120,
     "metadata": {},
     "output_type": "execute_result"
    }
   ],
   "source": [
    "# Train the model\n",
    "model.fit(X_train_scaled, y_train, epochs=100, batch_size=512, validation_split=0.2)"
   ]
  },
  {
   "cell_type": "code",
   "execution_count": 121,
   "metadata": {},
   "outputs": [
    {
     "name": "stdout",
     "output_type": "stream",
     "text": [
      "7/7 [==============================] - 0s 7ms/step\n",
      "Model Accuracy: 0.475\n"
     ]
    }
   ],
   "source": [
    "# Evaluate the model\n",
    "y_pred = (model.predict(X_test_scaled) > 0.5).astype(int)\n",
    "accuracy = accuracy_score(y_test, y_pred)\n",
    "print(f'Model Accuracy: {accuracy}')"
   ]
  },
  {
   "cell_type": "code",
   "execution_count": 97,
   "metadata": {},
   "outputs": [
    {
     "name": "stderr",
     "output_type": "stream",
     "text": [
      "d:\\Mic\\New-All-Programming-Project\\PalatePicks-MachineLearning\\.venv\\lib\\site-packages\\keras\\src\\engine\\training.py:3103: UserWarning: You are saving your model as an HDF5 file via `model.save()`. This file format is considered legacy. We recommend using instead the native Keras format, e.g. `model.save('my_model.keras')`.\n",
      "  saving_api.save_model(\n"
     ]
    }
   ],
   "source": [
    "model.save(\"PPmodel.h5\", save_format='h5')"
   ]
  },
  {
   "cell_type": "code",
   "execution_count": 98,
   "metadata": {},
   "outputs": [
    {
     "data": {
      "text/plain": [
       "['scaler_PPmodel.pkl']"
      ]
     },
     "execution_count": 98,
     "metadata": {},
     "output_type": "execute_result"
    }
   ],
   "source": [
    "import joblib\n",
    "joblib.dump(scaler, \"scaler_PPmodel.pkl\")"
   ]
  },
  {
   "cell_type": "markdown",
   "metadata": {},
   "source": [
    "### Fuction"
   ]
  },
  {
   "cell_type": "code",
   "execution_count": 122,
   "metadata": {},
   "outputs": [],
   "source": [
    "# def palateCheck(user_id_to_predict, cafe_id_to_predict):\n",
    "#   user_cafe_data = df_model[(df['user_id'] == user_id_to_predict) & (df['cafe_id'] == cafe_id_to_predict)].drop(columns=['vote'])\n",
    "#   user_cafe_data_scaled = scaler.transform(user_cafe_data)\n",
    "#   prediction = model.predict(user_cafe_data_scaled)\n",
    "#   return prediction\n",
    "#   #return value of cocoklogi"
   ]
  },
  {
   "cell_type": "code",
   "execution_count": 126,
   "metadata": {},
   "outputs": [],
   "source": [
    "def palateCheck(user_id_to_predict, cafe_id_to_predict):\n",
    "    user_cafe_data = df[(df['user_id'] == user_id_to_predict) & (df['cafe_id'] == cafe_id_to_predict)].drop(columns=['vote'])\n",
    "\n",
    "    # Cek apakah user_cafe_data tidak kosong\n",
    "    if user_cafe_data.empty:\n",
    "        raise ValueError(\"No data found for the given user_id and cafe_id\")\n",
    "\n",
    "    user_cafe_data_scaled = scaler.transform(user_cafe_data)\n",
    "    prediction = model.predict(user_cafe_data_scaled)\n",
    "    return prediction"
   ]
  },
  {
   "cell_type": "code",
   "execution_count": 82,
   "metadata": {},
   "outputs": [],
   "source": [
    "def palateFilterSearch(Kpopers=0, JapanLovers=0, AnimalLovers=0, Quite=0, \n",
    "                       MusicLovers=0, BookLovers=0, ArtLovers=0, ViewsLovers=0, \n",
    "                       CoffeeLovers=0, NonCoffeeLovers=0, groupsComer=0):\n",
    "    kafe_cocok = []\n",
    "    for cafe in df_cafe:\n",
    "        user_cafe_data = df_model[(df_model['Kpopers'] == Kpopers),\n",
    "                                  (df_model['JapanLovers'] == JapanLovers),\n",
    "                                  (df_model['AnimalLovers'] == AnimalLovers),\n",
    "                                  (df_model['Quite'] == Quite),\n",
    "                                  (df_model['MusicLovers'] == MusicLovers),\n",
    "                                  (df_model['BookLovers'] == BookLovers),\n",
    "                                  (df_model['ArtLovers'] == ArtLovers),\n",
    "                                  (df_model['ViewsLovers'] == ViewsLovers),\n",
    "                                  (df_model['CoffeeLovers'] == CoffeeLovers),\n",
    "                                  (df_model['NonCoffeeLovers'] == NonCoffeeLovers),\n",
    "                                  (df_model['groupsComer'] == groupsComer)]\n",
    "        user_cafe_data_scaled = scaler.transform(user_cafe_data)\n",
    "        prediction = model.predict(user_cafe_data_scaled)\n",
    "        if prediction > 0.5:\n",
    "            kafe_cocok.append(cafe)\n",
    "    return kafe_cocok\n",
    "#return array of cafe_ids that pass the cocoklogi thereshold\n",
    "\n",
    "# def cari_kafe(jarak_x, kafe):\n",
    "#     kafe_cocok = []\n",
    "#     for i in range(len(kafe)):\n",
    "#         jarak = get_jarak(\"lokasi_saya\", kafe[i][2])\n",
    "#         jarak = float(jarak.split()[0].replace(\",\", \".\"))\n",
    "#         if jarak == jarak_x:\n",
    "#             kafe_cocok.append(kafe[i][0])\n",
    "#     kafe_cocok.sort()\n",
    "#     return kafe_cocok"
   ]
  },
  {
   "cell_type": "markdown",
   "metadata": {},
   "source": [
    "### Implementation"
   ]
  },
  {
   "cell_type": "code",
   "execution_count": 127,
   "metadata": {},
   "outputs": [
    {
     "ename": "ValueError",
     "evalue": "No data found for the given user_id and cafe_id",
     "output_type": "error",
     "traceback": [
      "\u001b[1;31m---------------------------------------------------------------------------\u001b[0m",
      "\u001b[1;31mValueError\u001b[0m                                Traceback (most recent call last)",
      "Cell \u001b[1;32mIn[127], line 1\u001b[0m\n\u001b[1;32m----> 1\u001b[0m \u001b[38;5;28mprint\u001b[39m(\u001b[43mpalateCheck\u001b[49m\u001b[43m(\u001b[49m\u001b[38;5;241;43m478\u001b[39;49m\u001b[43m,\u001b[49m\u001b[38;5;241;43m51\u001b[39;49m\u001b[43m)\u001b[49m)\n",
      "Cell \u001b[1;32mIn[126], line 6\u001b[0m, in \u001b[0;36mpalateCheck\u001b[1;34m(user_id_to_predict, cafe_id_to_predict)\u001b[0m\n\u001b[0;32m      4\u001b[0m \u001b[38;5;66;03m# Cek apakah user_cafe_data tidak kosong\u001b[39;00m\n\u001b[0;32m      5\u001b[0m \u001b[38;5;28;01mif\u001b[39;00m user_cafe_data\u001b[38;5;241m.\u001b[39mempty:\n\u001b[1;32m----> 6\u001b[0m     \u001b[38;5;28;01mraise\u001b[39;00m \u001b[38;5;167;01mValueError\u001b[39;00m(\u001b[38;5;124m\"\u001b[39m\u001b[38;5;124mNo data found for the given user_id and cafe_id\u001b[39m\u001b[38;5;124m\"\u001b[39m)\n\u001b[0;32m      8\u001b[0m user_cafe_data_scaled \u001b[38;5;241m=\u001b[39m scaler\u001b[38;5;241m.\u001b[39mtransform(user_cafe_data)\n\u001b[0;32m      9\u001b[0m prediction \u001b[38;5;241m=\u001b[39m model\u001b[38;5;241m.\u001b[39mpredict(user_cafe_data_scaled)\n",
      "\u001b[1;31mValueError\u001b[0m: No data found for the given user_id and cafe_id"
     ]
    }
   ],
   "source": [
    "print(palateCheck(478,51))"
   ]
  },
  {
   "cell_type": "code",
   "execution_count": 41,
   "metadata": {},
   "outputs": [
    {
     "name": "stdout",
     "output_type": "stream",
     "text": [
      "1/1 [==============================] - 0s 35ms/step\n",
      "Recommendation for User 478: [[1]\n",
      " [1]]\n"
     ]
    }
   ],
   "source": [
    "# Example: Making predictions for a specific user (replace 'user_id_to_predict' with the actual user ID)\n",
    "user_id_to_predict = 478\n",
    "user_data = df_model[df['user_id'] == user_id_to_predict].drop(columns=['vote'])\n",
    "user_data_scaled = scaler.transform(user_data)\n",
    "recommendation = (model.predict(user_data_scaled) > 0.5).astype(int)\n",
    "\n",
    "# Display the recommendation for the user\n",
    "print(f'Recommendation for User {user_id_to_predict}: {recommendation}')"
   ]
  },
  {
   "cell_type": "code",
   "execution_count": 42,
   "metadata": {},
   "outputs": [
    {
     "name": "stdout",
     "output_type": "stream",
     "text": [
      "1/1 [==============================] - 0s 23ms/step\n",
      "Predicted Likelihood for User 478 liking Cafe ChIJ0aVF46v2aS4Rnh8lZ3d5tUQ: [[0.9999821]]\n"
     ]
    }
   ],
   "source": [
    "# Example: Making predictions for a specific user and cafe combination\n",
    "user_id_to_predict = 478\n",
    "cafe_id_to_predict = 'ChIJ0aVF46v2aS4Rnh8lZ3d5tUQ'  # Replace with the actual cafe ID\n",
    "user_cafe_data = df_model[(df['user_id'] == user_id_to_predict) & (df['cafe_id'] == cafe_id_to_predict)].drop(columns=['vote'])\n",
    "user_cafe_data_scaled = scaler.transform(user_cafe_data)\n",
    "prediction = model.predict(user_cafe_data_scaled)\n",
    "\n",
    "# Display the predicted likelihood of the user liking the cafe\n",
    "print(f'Predicted Likelihood for User {user_id_to_predict} liking Cafe {cafe_id_to_predict}: {prediction}')"
   ]
  }
 ],
 "metadata": {
  "kernelspec": {
   "display_name": ".venv",
   "language": "python",
   "name": "python3"
  },
  "language_info": {
   "codemirror_mode": {
    "name": "ipython",
    "version": 3
   },
   "file_extension": ".py",
   "mimetype": "text/x-python",
   "name": "python",
   "nbconvert_exporter": "python",
   "pygments_lexer": "ipython3",
   "version": "3.10.5"
  }
 },
 "nbformat": 4,
 "nbformat_minor": 2
}
